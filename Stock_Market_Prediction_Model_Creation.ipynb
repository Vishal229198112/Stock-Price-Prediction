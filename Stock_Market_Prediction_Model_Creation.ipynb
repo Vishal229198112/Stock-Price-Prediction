{
 "cells": [
  {
   "cell_type": "code",
   "execution_count": 29,
   "id": "88d67c13-1dca-451c-85d5-eb234183c342",
   "metadata": {
    "id": "88d67c13-1dca-451c-85d5-eb234183c342"
   },
   "outputs": [],
   "source": [
    "import numpy as np\n",
    "import pandas as pd\n",
    "import matplotlib.pyplot as plt\n",
    "import yfinance as yf\n",
    "from keras.models import load_model\n",
    "import pickle"
   ]
  },
  {
   "cell_type": "code",
   "execution_count": 2,
   "id": "f3bc102c-1442-4cae-9093-f77f2b7b7e0c",
   "metadata": {
    "colab": {
     "base_uri": "https://localhost:8080/"
    },
    "executionInfo": {
     "elapsed": 220,
     "status": "ok",
     "timestamp": 1745098520134,
     "user": {
      "displayName": "Vishal Patel",
      "userId": "13507122250658849468"
     },
     "user_tz": -330
    },
    "id": "f3bc102c-1442-4cae-9093-f77f2b7b7e0c",
    "outputId": "1cb3861c-1ade-4327-f25a-35968723ca0b"
   },
   "outputs": [
    {
     "name": "stdout",
     "output_type": "stream",
     "text": [
      "YF.download() has changed argument auto_adjust default to True\n"
     ]
    },
    {
     "name": "stderr",
     "output_type": "stream",
     "text": [
      "[*********************100%***********************]  1 of 1 completed\n"
     ]
    }
   ],
   "source": [
    "start = '2012-01-01'\n",
    "stock = 'GOOG'\n",
    "\n",
    "data = yf.download(stock, start)"
   ]
  },
  {
   "cell_type": "code",
   "execution_count": 3,
   "id": "5hiBe2wg-YBw",
   "metadata": {
    "colab": {
     "base_uri": "https://localhost:8080/",
     "height": 486
    },
    "executionInfo": {
     "elapsed": 8,
     "status": "ok",
     "timestamp": 1745098523232,
     "user": {
      "displayName": "Vishal Patel",
      "userId": "13507122250658849468"
     },
     "user_tz": -330
    },
    "id": "5hiBe2wg-YBw",
    "outputId": "90be9af3-2875-4cb7-fe33-2939c4a7485b"
   },
   "outputs": [
    {
     "data": {
      "text/html": [
       "<div>\n",
       "<style scoped>\n",
       "    .dataframe tbody tr th:only-of-type {\n",
       "        vertical-align: middle;\n",
       "    }\n",
       "\n",
       "    .dataframe tbody tr th {\n",
       "        vertical-align: top;\n",
       "    }\n",
       "\n",
       "    .dataframe thead tr th {\n",
       "        text-align: left;\n",
       "    }\n",
       "\n",
       "    .dataframe thead tr:last-of-type th {\n",
       "        text-align: right;\n",
       "    }\n",
       "</style>\n",
       "<table border=\"1\" class=\"dataframe\">\n",
       "  <thead>\n",
       "    <tr>\n",
       "      <th>Price</th>\n",
       "      <th>Close</th>\n",
       "      <th>High</th>\n",
       "      <th>Low</th>\n",
       "      <th>Open</th>\n",
       "      <th>Volume</th>\n",
       "    </tr>\n",
       "    <tr>\n",
       "      <th>Ticker</th>\n",
       "      <th>GOOG</th>\n",
       "      <th>GOOG</th>\n",
       "      <th>GOOG</th>\n",
       "      <th>GOOG</th>\n",
       "      <th>GOOG</th>\n",
       "    </tr>\n",
       "    <tr>\n",
       "      <th>Date</th>\n",
       "      <th></th>\n",
       "      <th></th>\n",
       "      <th></th>\n",
       "      <th></th>\n",
       "      <th></th>\n",
       "    </tr>\n",
       "  </thead>\n",
       "  <tbody>\n",
       "    <tr>\n",
       "      <th>2012-01-03</th>\n",
       "      <td>16.495001</td>\n",
       "      <td>16.562924</td>\n",
       "      <td>16.171749</td>\n",
       "      <td>16.185880</td>\n",
       "      <td>147611217</td>\n",
       "    </tr>\n",
       "    <tr>\n",
       "      <th>2012-01-04</th>\n",
       "      <td>16.566147</td>\n",
       "      <td>16.614982</td>\n",
       "      <td>16.376262</td>\n",
       "      <td>16.485582</td>\n",
       "      <td>114989399</td>\n",
       "    </tr>\n",
       "    <tr>\n",
       "      <th>2012-01-05</th>\n",
       "      <td>16.336349</td>\n",
       "      <td>16.459304</td>\n",
       "      <td>16.267435</td>\n",
       "      <td>16.413692</td>\n",
       "      <td>131808205</td>\n",
       "    </tr>\n",
       "    <tr>\n",
       "      <th>2012-01-06</th>\n",
       "      <td>16.113497</td>\n",
       "      <td>16.360893</td>\n",
       "      <td>16.107794</td>\n",
       "      <td>16.339821</td>\n",
       "      <td>108119746</td>\n",
       "    </tr>\n",
       "    <tr>\n",
       "      <th>2012-01-09</th>\n",
       "      <td>15.430305</td>\n",
       "      <td>16.038633</td>\n",
       "      <td>15.399813</td>\n",
       "      <td>16.026237</td>\n",
       "      <td>233776981</td>\n",
       "    </tr>\n",
       "    <tr>\n",
       "      <th>...</th>\n",
       "      <td>...</td>\n",
       "      <td>...</td>\n",
       "      <td>...</td>\n",
       "      <td>...</td>\n",
       "      <td>...</td>\n",
       "    </tr>\n",
       "    <tr>\n",
       "      <th>2025-04-21</th>\n",
       "      <td>149.860001</td>\n",
       "      <td>151.059998</td>\n",
       "      <td>148.399994</td>\n",
       "      <td>150.964996</td>\n",
       "      <td>16147800</td>\n",
       "    </tr>\n",
       "    <tr>\n",
       "      <th>2025-04-22</th>\n",
       "      <td>153.899994</td>\n",
       "      <td>154.610001</td>\n",
       "      <td>150.869995</td>\n",
       "      <td>151.070007</td>\n",
       "      <td>15910300</td>\n",
       "    </tr>\n",
       "    <tr>\n",
       "      <th>2025-04-23</th>\n",
       "      <td>157.720001</td>\n",
       "      <td>160.020004</td>\n",
       "      <td>156.350006</td>\n",
       "      <td>157.910004</td>\n",
       "      <td>18575700</td>\n",
       "    </tr>\n",
       "    <tr>\n",
       "      <th>2025-04-24</th>\n",
       "      <td>161.470001</td>\n",
       "      <td>161.710007</td>\n",
       "      <td>158.089996</td>\n",
       "      <td>158.524994</td>\n",
       "      <td>30787500</td>\n",
       "    </tr>\n",
       "    <tr>\n",
       "      <th>2025-04-25</th>\n",
       "      <td>163.850006</td>\n",
       "      <td>168.240005</td>\n",
       "      <td>163.000000</td>\n",
       "      <td>167.100006</td>\n",
       "      <td>35105800</td>\n",
       "    </tr>\n",
       "  </tbody>\n",
       "</table>\n",
       "<p>3348 rows × 5 columns</p>\n",
       "</div>"
      ],
      "text/plain": [
       "Price            Close        High         Low        Open     Volume\n",
       "Ticker            GOOG        GOOG        GOOG        GOOG       GOOG\n",
       "Date                                                                 \n",
       "2012-01-03   16.495001   16.562924   16.171749   16.185880  147611217\n",
       "2012-01-04   16.566147   16.614982   16.376262   16.485582  114989399\n",
       "2012-01-05   16.336349   16.459304   16.267435   16.413692  131808205\n",
       "2012-01-06   16.113497   16.360893   16.107794   16.339821  108119746\n",
       "2012-01-09   15.430305   16.038633   15.399813   16.026237  233776981\n",
       "...                ...         ...         ...         ...        ...\n",
       "2025-04-21  149.860001  151.059998  148.399994  150.964996   16147800\n",
       "2025-04-22  153.899994  154.610001  150.869995  151.070007   15910300\n",
       "2025-04-23  157.720001  160.020004  156.350006  157.910004   18575700\n",
       "2025-04-24  161.470001  161.710007  158.089996  158.524994   30787500\n",
       "2025-04-25  163.850006  168.240005  163.000000  167.100006   35105800\n",
       "\n",
       "[3348 rows x 5 columns]"
      ]
     },
     "execution_count": 3,
     "metadata": {},
     "output_type": "execute_result"
    }
   ],
   "source": [
    "data"
   ]
  },
  {
   "cell_type": "code",
   "execution_count": 4,
   "id": "8657c12a-ec44-4ea9-80c9-7ecbec9b0084",
   "metadata": {
    "id": "8657c12a-ec44-4ea9-80c9-7ecbec9b0084"
   },
   "outputs": [],
   "source": [
    "data.reset_index(inplace=True)"
   ]
  },
  {
   "cell_type": "code",
   "execution_count": 5,
   "id": "e8fadd81-946b-47fc-b014-8ecf059302ce",
   "metadata": {
    "colab": {
     "base_uri": "https://localhost:8080/",
     "height": 455
    },
    "executionInfo": {
     "elapsed": 105,
     "status": "ok",
     "timestamp": 1745098537460,
     "user": {
      "displayName": "Vishal Patel",
      "userId": "13507122250658849468"
     },
     "user_tz": -330
    },
    "id": "e8fadd81-946b-47fc-b014-8ecf059302ce",
    "outputId": "f6a4c78f-188c-4906-aaae-df89b03e7d56"
   },
   "outputs": [
    {
     "data": {
      "text/html": [
       "<div>\n",
       "<style scoped>\n",
       "    .dataframe tbody tr th:only-of-type {\n",
       "        vertical-align: middle;\n",
       "    }\n",
       "\n",
       "    .dataframe tbody tr th {\n",
       "        vertical-align: top;\n",
       "    }\n",
       "\n",
       "    .dataframe thead tr th {\n",
       "        text-align: left;\n",
       "    }\n",
       "</style>\n",
       "<table border=\"1\" class=\"dataframe\">\n",
       "  <thead>\n",
       "    <tr>\n",
       "      <th>Price</th>\n",
       "      <th>Date</th>\n",
       "      <th>Close</th>\n",
       "      <th>High</th>\n",
       "      <th>Low</th>\n",
       "      <th>Open</th>\n",
       "      <th>Volume</th>\n",
       "    </tr>\n",
       "    <tr>\n",
       "      <th>Ticker</th>\n",
       "      <th></th>\n",
       "      <th>GOOG</th>\n",
       "      <th>GOOG</th>\n",
       "      <th>GOOG</th>\n",
       "      <th>GOOG</th>\n",
       "      <th>GOOG</th>\n",
       "    </tr>\n",
       "  </thead>\n",
       "  <tbody>\n",
       "    <tr>\n",
       "      <th>0</th>\n",
       "      <td>2012-01-03</td>\n",
       "      <td>16.495001</td>\n",
       "      <td>16.562924</td>\n",
       "      <td>16.171749</td>\n",
       "      <td>16.185880</td>\n",
       "      <td>147611217</td>\n",
       "    </tr>\n",
       "    <tr>\n",
       "      <th>1</th>\n",
       "      <td>2012-01-04</td>\n",
       "      <td>16.566147</td>\n",
       "      <td>16.614982</td>\n",
       "      <td>16.376262</td>\n",
       "      <td>16.485582</td>\n",
       "      <td>114989399</td>\n",
       "    </tr>\n",
       "    <tr>\n",
       "      <th>2</th>\n",
       "      <td>2012-01-05</td>\n",
       "      <td>16.336349</td>\n",
       "      <td>16.459304</td>\n",
       "      <td>16.267435</td>\n",
       "      <td>16.413692</td>\n",
       "      <td>131808205</td>\n",
       "    </tr>\n",
       "    <tr>\n",
       "      <th>3</th>\n",
       "      <td>2012-01-06</td>\n",
       "      <td>16.113497</td>\n",
       "      <td>16.360893</td>\n",
       "      <td>16.107794</td>\n",
       "      <td>16.339821</td>\n",
       "      <td>108119746</td>\n",
       "    </tr>\n",
       "    <tr>\n",
       "      <th>4</th>\n",
       "      <td>2012-01-09</td>\n",
       "      <td>15.430305</td>\n",
       "      <td>16.038633</td>\n",
       "      <td>15.399813</td>\n",
       "      <td>16.026237</td>\n",
       "      <td>233776981</td>\n",
       "    </tr>\n",
       "    <tr>\n",
       "      <th>...</th>\n",
       "      <td>...</td>\n",
       "      <td>...</td>\n",
       "      <td>...</td>\n",
       "      <td>...</td>\n",
       "      <td>...</td>\n",
       "      <td>...</td>\n",
       "    </tr>\n",
       "    <tr>\n",
       "      <th>3343</th>\n",
       "      <td>2025-04-21</td>\n",
       "      <td>149.860001</td>\n",
       "      <td>151.059998</td>\n",
       "      <td>148.399994</td>\n",
       "      <td>150.964996</td>\n",
       "      <td>16147800</td>\n",
       "    </tr>\n",
       "    <tr>\n",
       "      <th>3344</th>\n",
       "      <td>2025-04-22</td>\n",
       "      <td>153.899994</td>\n",
       "      <td>154.610001</td>\n",
       "      <td>150.869995</td>\n",
       "      <td>151.070007</td>\n",
       "      <td>15910300</td>\n",
       "    </tr>\n",
       "    <tr>\n",
       "      <th>3345</th>\n",
       "      <td>2025-04-23</td>\n",
       "      <td>157.720001</td>\n",
       "      <td>160.020004</td>\n",
       "      <td>156.350006</td>\n",
       "      <td>157.910004</td>\n",
       "      <td>18575700</td>\n",
       "    </tr>\n",
       "    <tr>\n",
       "      <th>3346</th>\n",
       "      <td>2025-04-24</td>\n",
       "      <td>161.470001</td>\n",
       "      <td>161.710007</td>\n",
       "      <td>158.089996</td>\n",
       "      <td>158.524994</td>\n",
       "      <td>30787500</td>\n",
       "    </tr>\n",
       "    <tr>\n",
       "      <th>3347</th>\n",
       "      <td>2025-04-25</td>\n",
       "      <td>163.850006</td>\n",
       "      <td>168.240005</td>\n",
       "      <td>163.000000</td>\n",
       "      <td>167.100006</td>\n",
       "      <td>35105800</td>\n",
       "    </tr>\n",
       "  </tbody>\n",
       "</table>\n",
       "<p>3348 rows × 6 columns</p>\n",
       "</div>"
      ],
      "text/plain": [
       "Price        Date       Close        High         Low        Open     Volume\n",
       "Ticker                   GOOG        GOOG        GOOG        GOOG       GOOG\n",
       "0      2012-01-03   16.495001   16.562924   16.171749   16.185880  147611217\n",
       "1      2012-01-04   16.566147   16.614982   16.376262   16.485582  114989399\n",
       "2      2012-01-05   16.336349   16.459304   16.267435   16.413692  131808205\n",
       "3      2012-01-06   16.113497   16.360893   16.107794   16.339821  108119746\n",
       "4      2012-01-09   15.430305   16.038633   15.399813   16.026237  233776981\n",
       "...           ...         ...         ...         ...         ...        ...\n",
       "3343   2025-04-21  149.860001  151.059998  148.399994  150.964996   16147800\n",
       "3344   2025-04-22  153.899994  154.610001  150.869995  151.070007   15910300\n",
       "3345   2025-04-23  157.720001  160.020004  156.350006  157.910004   18575700\n",
       "3346   2025-04-24  161.470001  161.710007  158.089996  158.524994   30787500\n",
       "3347   2025-04-25  163.850006  168.240005  163.000000  167.100006   35105800\n",
       "\n",
       "[3348 rows x 6 columns]"
      ]
     },
     "execution_count": 5,
     "metadata": {},
     "output_type": "execute_result"
    }
   ],
   "source": [
    "data"
   ]
  },
  {
   "cell_type": "code",
   "execution_count": 6,
   "id": "8a478e83-6aee-4809-9405-be6f8b65b16a",
   "metadata": {
    "id": "8a478e83-6aee-4809-9405-be6f8b65b16a"
   },
   "outputs": [],
   "source": [
    "ma_100_days = data.Close.rolling(100).mean()"
   ]
  },
  {
   "cell_type": "code",
   "execution_count": 7,
   "id": "fc840124-ef3e-40b0-9e74-aa5a174c4c50",
   "metadata": {
    "colab": {
     "base_uri": "https://localhost:8080/",
     "height": 522
    },
    "executionInfo": {
     "elapsed": 601,
     "status": "ok",
     "timestamp": 1745098548444,
     "user": {
      "displayName": "Vishal Patel",
      "userId": "13507122250658849468"
     },
     "user_tz": -330
    },
    "id": "fc840124-ef3e-40b0-9e74-aa5a174c4c50",
    "outputId": "3a6a3e0d-8098-4a0c-c2fb-09103842d9d7"
   },
   "outputs": [
    {
     "data": {
      "image/png": "[encoded data removed]",
      "text/plain": [
       "<Figure size 800x600 with 1 Axes>"
      ]
     },
     "metadata": {},
     "output_type": "display_data"
    }
   ],
   "source": [
    "plt.figure(figsize=(8,6))\n",
    "plt.plot(ma_100_days, 'r')\n",
    "plt.plot(data.Close, 'g')\n",
    "plt.show()"
   ]
  },
  {
   "cell_type": "code",
   "execution_count": 8,
   "id": "1158c05f-1a2c-41f8-8add-85720074cdcd",
   "metadata": {
    "id": "1158c05f-1a2c-41f8-8add-85720074cdcd"
   },
   "outputs": [],
   "source": [
    "ma_200_days = data.Close.rolling(200).mean()"
   ]
  },
  {
   "cell_type": "code",
   "execution_count": 9,
   "id": "97a1b79b-2302-43d7-883a-a0a255c864bf",
   "metadata": {
    "colab": {
     "base_uri": "https://localhost:8080/",
     "height": 522
    },
    "executionInfo": {
     "elapsed": 501,
     "status": "ok",
     "timestamp": 1745098569025,
     "user": {
      "displayName": "Vishal Patel",
      "userId": "13507122250658849468"
     },
     "user_tz": -330
    },
    "id": "97a1b79b-2302-43d7-883a-a0a255c864bf",
    "outputId": "d5e89eca-973d-49ad-f4ed-d0c4dbf5cb5a"
   },
   "outputs": [
    {
     "data": {
      "image/png": "[encoded data removed]",
      "text/plain": [
       "<Figure size 800x600 with 1 Axes>"
      ]
     },
     "metadata": {},
     "output_type": "display_data"
    }
   ],
   "source": [
    "plt.figure(figsize=(8,6))\n",
    "plt.plot(ma_100_days, 'r')\n",
    "plt.plot(ma_200_days,'b')\n",
    "plt.plot(data.Close,'g')\n",
    "plt.show()"
   ]
  },
  {
   "cell_type": "code",
   "execution_count": 10,
   "id": "0ac073de-1a30-487c-a1f8-c809cbba06db",
   "metadata": {
    "id": "0ac073de-1a30-487c-a1f8-c809cbba06db"
   },
   "outputs": [],
   "source": [
    "data.dropna(inplace=True)"
   ]
  },
  {
   "cell_type": "code",
   "execution_count": 11,
   "id": "64246466-177b-46f9-b4eb-6ee5005bfd6b",
   "metadata": {
    "id": "64246466-177b-46f9-b4eb-6ee5005bfd6b"
   },
   "outputs": [],
   "source": [
    "data_train = pd.DataFrame(data.Close[0: int(len(data)*0.80)])\n",
    "data_test = pd.DataFrame(data.Close[int(len(data)*0.80): len(data)])"
   ]
  },
  {
   "cell_type": "code",
   "execution_count": 12,
   "id": "0f4c0b4b-2b5e-4f62-bd84-47a86ed3da3e",
   "metadata": {
    "colab": {
     "base_uri": "https://localhost:8080/"
    },
    "executionInfo": {
     "elapsed": 7,
     "status": "ok",
     "timestamp": 1745098580772,
     "user": {
      "displayName": "Vishal Patel",
      "userId": "13507122250658849468"
     },
     "user_tz": -330
    },
    "id": "0f4c0b4b-2b5e-4f62-bd84-47a86ed3da3e",
    "outputId": "2827c957-ccb2-4338-ecb2-77ee12ca9562"
   },
   "outputs": [
    {
     "data": {
      "text/plain": [
       "2678"
      ]
     },
     "execution_count": 12,
     "metadata": {},
     "output_type": "execute_result"
    }
   ],
   "source": [
    "data_train.shape[0]"
   ]
  },
  {
   "cell_type": "code",
   "execution_count": 13,
   "id": "0a609554-633d-4edf-abc1-21bd874a3cd1",
   "metadata": {
    "colab": {
     "base_uri": "https://localhost:8080/"
    },
    "executionInfo": {
     "elapsed": 10,
     "status": "ok",
     "timestamp": 1745098583854,
     "user": {
      "displayName": "Vishal Patel",
      "userId": "13507122250658849468"
     },
     "user_tz": -330
    },
    "id": "0a609554-633d-4edf-abc1-21bd874a3cd1",
    "outputId": "06b7f35b-d258-4154-aa97-93cc017c1f2e"
   },
   "outputs": [
    {
     "data": {
      "text/plain": [
       "670"
      ]
     },
     "execution_count": 13,
     "metadata": {},
     "output_type": "execute_result"
    }
   ],
   "source": [
    "data_test.shape[0]"
   ]
  },
  {
   "cell_type": "code",
   "execution_count": 14,
   "id": "d5144e93-eab7-479f-9fde-9bf8c5786dc6",
   "metadata": {
    "id": "d5144e93-eab7-479f-9fde-9bf8c5786dc6"
   },
   "outputs": [],
   "source": [
    "from sklearn.preprocessing import MinMaxScaler\n",
    "scaler = MinMaxScaler(feature_range=(0,1))"
   ]
  },
  {
   "cell_type": "code",
   "execution_count": 15,
   "id": "4c2793bd-1def-45f7-8fd2-9115eed1c2c1",
   "metadata": {
    "id": "4c2793bd-1def-45f7-8fd2-9115eed1c2c1"
   },
   "outputs": [],
   "source": [
    "data_train_scale = scaler.fit_transform(data_train)"
   ]
  },
  {
   "cell_type": "code",
   "execution_count": 16,
   "id": "qPMxSd86_NAl",
   "metadata": {
    "colab": {
     "base_uri": "https://localhost:8080/"
    },
    "executionInfo": {
     "elapsed": 6,
     "status": "ok",
     "timestamp": 1745098718430,
     "user": {
      "displayName": "Vishal Patel",
      "userId": "13507122250658849468"
     },
     "user_tz": -330
    },
    "id": "qPMxSd86_NAl",
    "outputId": "0aff659e-b54f-4ed5-a76c-d290a86f7db5"
   },
   "outputs": [
    {
     "data": {
      "text/plain": [
       "(2678, 1)"
      ]
     },
     "execution_count": 16,
     "metadata": {},
     "output_type": "execute_result"
    }
   ],
   "source": [
    "data_train_scale.shape"
   ]
  },
  {
   "cell_type": "code",
   "execution_count": 17,
   "id": "d55d63c2-132a-40b5-9398-e576ceba14fd",
   "metadata": {
    "id": "d55d63c2-132a-40b5-9398-e576ceba14fd"
   },
   "outputs": [],
   "source": [
    "x = []\n",
    "y = []\n",
    "\n",
    "for i in range(100, data_train_scale.shape[0]):\n",
    "    x.append(data_train_scale[i-100:i])\n",
    "    y.append(data_train_scale[i,0])\n"
   ]
  },
  {
   "cell_type": "code",
   "execution_count": 18,
   "id": "998369e6-f1ad-4cf5-af58-0aa5b7aa315c",
   "metadata": {
    "id": "998369e6-f1ad-4cf5-af58-0aa5b7aa315c"
   },
   "outputs": [],
   "source": [
    "x, y = np.array(x), np.array(y)"
   ]
  },
  {
   "cell_type": "code",
   "execution_count": 19,
   "id": "D7fRrAPU-5EE",
   "metadata": {
    "colab": {
     "base_uri": "https://localhost:8080/"
    },
    "executionInfo": {
     "elapsed": 7,
     "status": "ok",
     "timestamp": 1745098637715,
     "user": {
      "displayName": "Vishal Patel",
      "userId": "13507122250658849468"
     },
     "user_tz": -330
    },
    "id": "D7fRrAPU-5EE",
    "outputId": "981e0f69-d793-4c62-c2ab-466c75d24def"
   },
   "outputs": [
    {
     "data": {
      "text/plain": [
       "(2578, 100, 1)"
      ]
     },
     "execution_count": 19,
     "metadata": {},
     "output_type": "execute_result"
    }
   ],
   "source": [
    "x.shape"
   ]
  },
  {
   "cell_type": "code",
   "execution_count": 20,
   "id": "iNKEi6mY_G5S",
   "metadata": {
    "colab": {
     "base_uri": "https://localhost:8080/"
    },
    "executionInfo": {
     "elapsed": 9,
     "status": "ok",
     "timestamp": 1745098680725,
     "user": {
      "displayName": "Vishal Patel",
      "userId": "13507122250658849468"
     },
     "user_tz": -330
    },
    "id": "iNKEi6mY_G5S",
    "outputId": "82ba7806-c115-4a38-ac43-2ab58bd9c7e7"
   },
   "outputs": [
    {
     "data": {
      "text/plain": [
       "(2578,)"
      ]
     },
     "execution_count": 20,
     "metadata": {},
     "output_type": "execute_result"
    }
   ],
   "source": [
    "y.shape"
   ]
  },
  {
   "cell_type": "code",
   "execution_count": 21,
   "id": "3c9c6717-e792-4206-960f-0689203555ca",
   "metadata": {
    "id": "3c9c6717-e792-4206-960f-0689203555ca"
   },
   "outputs": [],
   "source": [
    "from keras.layers import Dense, Dropout, LSTM\n",
    "from keras.models import Sequential"
   ]
  },
  {
   "cell_type": "code",
   "execution_count": 22,
   "id": "14867cd4-c1ed-4cf9-b339-245bfaec0852",
   "metadata": {
    "colab": {
     "base_uri": "https://localhost:8080/"
    },
    "executionInfo": {
     "elapsed": 201,
     "status": "ok",
     "timestamp": 1745099153710,
     "user": {
      "displayName": "Vishal Patel",
      "userId": "13507122250658849468"
     },
     "user_tz": -330
    },
    "id": "14867cd4-c1ed-4cf9-b339-245bfaec0852",
    "outputId": "fe56bca6-9d5a-4777-f14e-21061e0b492d"
   },
   "outputs": [],
   "source": [
    "model = Sequential()\n",
    "model.add(LSTM(units = 128, activation = 'relu', return_sequences = True,\n",
    "               input_shape = ((x.shape[1],1))))\n",
    "model.add(Dropout(0.3))\n",
    "\n",
    "model.add(LSTM(units = 64, activation='relu', return_sequences = True))\n",
    "model.add(Dropout(0.3))\n",
    "\n",
    "model.add(LSTM(units = 32, activation = 'relu', return_sequences = True))\n",
    "model.add(Dropout(0.3))\n",
    "\n",
    "model.add(LSTM(units = 32, activation = 'relu'))\n",
    "model.add(Dropout(0.3))\n",
    "\n",
    "model.add(Dense(units =1))"
   ]
  },
  {
   "cell_type": "code",
   "execution_count": 23,
   "id": "c69edcc2-b11d-4702-8a6c-f6a6e677e79a",
   "metadata": {
    "id": "c69edcc2-b11d-4702-8a6c-f6a6e677e79a"
   },
   "outputs": [],
   "source": [
    "model.compile(optimizer = 'adam', loss = 'mean_squared_error')"
   ]
  },
  {
   "cell_type": "code",
   "execution_count": 24,
   "id": "f36e439a-0106-4108-9630-7cdd7e5428e4",
   "metadata": {
    "colab": {
     "base_uri": "https://localhost:8080/"
    },
    "executionInfo": {
     "elapsed": 1701146,
     "status": "ok",
     "timestamp": 1745100863266,
     "user": {
      "displayName": "Vishal Patel",
      "userId": "13507122250658849468"
     },
     "user_tz": -330
    },
    "id": "f36e439a-0106-4108-9630-7cdd7e5428e4",
    "outputId": "fad5a08c-80b9-48f3-ea38-da9977ad0c37"
   },
   "outputs": [
    {
     "name": "stdout",
     "output_type": "stream",
     "text": [
      "Epoch 1/50\n",
      "81/81 [==============================] - 20s 161ms/step - loss: 0.0282\n",
      "Epoch 2/50\n",
      "81/81 [==============================] - 13s 159ms/step - loss: 0.0075\n",
      "Epoch 3/50\n",
      "81/81 [==============================] - 13s 159ms/step - loss: 0.0071\n",
      "Epoch 4/50\n",
      "81/81 [==============================] - 13s 156ms/step - loss: 0.0059\n",
      "Epoch 5/50\n",
      "81/81 [==============================] - 13s 158ms/step - loss: 0.0050\n",
      "Epoch 6/50\n",
      "81/81 [==============================] - 13s 163ms/step - loss: 0.0052\n",
      "Epoch 7/50\n",
      "81/81 [==============================] - 14s 169ms/step - loss: 0.0049\n",
      "Epoch 8/50\n",
      "81/81 [==============================] - 13s 164ms/step - loss: 0.0051\n",
      "Epoch 9/50\n",
      "81/81 [==============================] - 18s 218ms/step - loss: 0.0043\n",
      "Epoch 10/50\n",
      "81/81 [==============================] - 15s 186ms/step - loss: 0.0033\n",
      "Epoch 11/50\n",
      "81/81 [==============================] - 13s 164ms/step - loss: 0.0037\n",
      "Epoch 12/50\n",
      "81/81 [==============================] - 13s 162ms/step - loss: 0.0035\n",
      "Epoch 13/50\n",
      "81/81 [==============================] - 13s 165ms/step - loss: 0.0040\n",
      "Epoch 14/50\n",
      "81/81 [==============================] - 14s 174ms/step - loss: 0.0037\n",
      "Epoch 15/50\n",
      "81/81 [==============================] - 18s 225ms/step - loss: 0.0034\n",
      "Epoch 16/50\n",
      "81/81 [==============================] - 13s 167ms/step - loss: 0.0031\n",
      "Epoch 17/50\n",
      "81/81 [==============================] - 14s 167ms/step - loss: 0.0034\n",
      "Epoch 18/50\n",
      "81/81 [==============================] - 14s 169ms/step - loss: 0.0030\n",
      "Epoch 19/50\n",
      "81/81 [==============================] - 14s 169ms/step - loss: 0.0027\n",
      "Epoch 20/50\n",
      "81/81 [==============================] - 14s 168ms/step - loss: 0.0029\n",
      "Epoch 21/50\n",
      "81/81 [==============================] - 14s 168ms/step - loss: 0.0027\n",
      "Epoch 22/50\n",
      "81/81 [==============================] - 14s 168ms/step - loss: 0.0030\n",
      "Epoch 23/50\n",
      "81/81 [==============================] - 14s 171ms/step - loss: 0.0028\n",
      "Epoch 24/50\n",
      "81/81 [==============================] - 14s 170ms/step - loss: 0.0027\n",
      "Epoch 25/50\n",
      "81/81 [==============================] - 14s 169ms/step - loss: 0.0031\n",
      "Epoch 26/50\n",
      "81/81 [==============================] - 14s 168ms/step - loss: 0.0026\n",
      "Epoch 27/50\n",
      "81/81 [==============================] - 14s 175ms/step - loss: 0.0030\n",
      "Epoch 28/50\n",
      "81/81 [==============================] - 5825s 73s/step - loss: 0.0031\n",
      "Epoch 29/50\n",
      "81/81 [==============================] - 15s 187ms/step - loss: 0.0027\n",
      "Epoch 30/50\n",
      "81/81 [==============================] - 13s 161ms/step - loss: 0.0027\n",
      "Epoch 31/50\n",
      "81/81 [==============================] - 13s 159ms/step - loss: 0.0024\n",
      "Epoch 32/50\n",
      "81/81 [==============================] - 13s 158ms/step - loss: 0.0025\n",
      "Epoch 33/50\n",
      "81/81 [==============================] - 13s 159ms/step - loss: 0.0026\n",
      "Epoch 34/50\n",
      "81/81 [==============================] - 13s 157ms/step - loss: 0.0027\n",
      "Epoch 35/50\n",
      "81/81 [==============================] - 13s 157ms/step - loss: 0.0027\n",
      "Epoch 36/50\n",
      "81/81 [==============================] - 13s 157ms/step - loss: 0.0027\n",
      "Epoch 37/50\n",
      "81/81 [==============================] - 18s 226ms/step - loss: 0.0023\n",
      "Epoch 38/50\n",
      "81/81 [==============================] - 15s 186ms/step - loss: 0.0029\n",
      "Epoch 39/50\n",
      "81/81 [==============================] - 13s 157ms/step - loss: 0.0027\n",
      "Epoch 40/50\n",
      "81/81 [==============================] - 13s 157ms/step - loss: 0.0025\n",
      "Epoch 41/50\n",
      "81/81 [==============================] - 13s 162ms/step - loss: 0.0027\n",
      "Epoch 42/50\n",
      "81/81 [==============================] - 13s 157ms/step - loss: 0.0027\n",
      "Epoch 43/50\n",
      "81/81 [==============================] - 13s 156ms/step - loss: 0.0025\n",
      "Epoch 44/50\n",
      "81/81 [==============================] - 13s 161ms/step - loss: 0.0029\n",
      "Epoch 45/50\n",
      "81/81 [==============================] - 13s 159ms/step - loss: 0.0026\n",
      "Epoch 46/50\n",
      "81/81 [==============================] - 13s 157ms/step - loss: 0.0025\n",
      "Epoch 47/50\n",
      "81/81 [==============================] - 13s 157ms/step - loss: 0.0025\n",
      "Epoch 48/50\n",
      "81/81 [==============================] - 13s 156ms/step - loss: 0.0025\n",
      "Epoch 49/50\n",
      "81/81 [==============================] - 14285s 179s/step - loss: 0.0026\n",
      "Epoch 50/50\n",
      "81/81 [==============================] - 21423s 268s/step - loss: 0.0025\n"
     ]
    },
    {
     "data": {
      "text/plain": [
       "<keras.callbacks.History at 0x236d28736a0>"
      ]
     },
     "execution_count": 24,
     "metadata": {},
     "output_type": "execute_result"
    }
   ],
   "source": [
    "model.fit(x,y, epochs = 50, batch_size =32, verbose =1)"
   ]
  },
  {
   "cell_type": "code",
   "execution_count": 24,
   "id": "62f9decd-83a6-4c03-8963-dc3298b2a104",
   "metadata": {
    "colab": {
     "base_uri": "https://localhost:8080/",
     "height": 433
    },
    "executionInfo": {
     "elapsed": 67,
     "status": "ok",
     "timestamp": 1745101290712,
     "user": {
      "displayName": "Vishal Patel",
      "userId": "13507122250658849468"
     },
     "user_tz": -330
    },
    "id": "62f9decd-83a6-4c03-8963-dc3298b2a104",
    "outputId": "9d9a779d-22d8-4c4a-ac1f-1001bb9ff9e1"
   },
   "outputs": [
    {
     "name": "stdout",
     "output_type": "stream",
     "text": [
      "Model: \"sequential\"\n",
      "_________________________________________________________________\n",
      " Layer (type)                Output Shape              Param #   \n",
      "=================================================================\n",
      " lstm (LSTM)                 (None, 100, 128)          66560     \n",
      "                                                                 \n",
      " dropout (Dropout)           (None, 100, 128)          0         \n",
      "                                                                 \n",
      " lstm_1 (LSTM)               (None, 100, 64)           49408     \n",
      "                                                                 \n",
      " dropout_1 (Dropout)         (None, 100, 64)           0         \n",
      "                                                                 \n",
      " lstm_2 (LSTM)               (None, 100, 32)           12416     \n",
      "                                                                 \n",
      " dropout_2 (Dropout)         (None, 100, 32)           0         \n",
      "                                                                 \n",
      " lstm_3 (LSTM)               (None, 32)                8320      \n",
      "                                                                 \n",
      " dropout_3 (Dropout)         (None, 32)                0         \n",
      "                                                                 \n",
      " dense (Dense)               (None, 1)                 33        \n",
      "                                                                 \n",
      "=================================================================\n",
      "Total params: 136,737\n",
      "Trainable params: 136,737\n",
      "Non-trainable params: 0\n",
      "_________________________________________________________________\n"
     ]
    }
   ],
   "source": [
    "model.summary()"
   ]
  },
  {
   "cell_type": "code",
   "execution_count": 30,
   "id": "c41dc2ba-591d-4759-a2a6-2bac132841ec",
   "metadata": {},
   "outputs": [],
   "source": [
    "model = load_model(r'C:\\Users\\vp190\\major1\\my_model.keras')\n",
    "with open(\"scaler.pkl\", \"rb\") as f:\n",
    "    scaler = pickle.load(f)\n"
   ]
  },
  {
   "cell_type": "code",
   "execution_count": 31,
   "id": "89cf9dc7-4e14-4c80-82bc-d6dcac8c98a2",
   "metadata": {
    "id": "89cf9dc7-4e14-4c80-82bc-d6dcac8c98a2"
   },
   "outputs": [],
   "source": [
    "pas_100_days = data_train.tail(100)"
   ]
  },
  {
   "cell_type": "code",
   "execution_count": 32,
   "id": "67ef7a1e-63cc-4874-9b61-634026572822",
   "metadata": {
    "id": "67ef7a1e-63cc-4874-9b61-634026572822"
   },
   "outputs": [],
   "source": [
    "data_test = pd.concat([pas_100_days, data_test], ignore_index=True)"
   ]
  },
  {
   "cell_type": "code",
   "execution_count": 33,
   "id": "7a0512e4-0eaf-4137-b61d-8bb0e48ca041",
   "metadata": {
    "id": "7a0512e4-0eaf-4137-b61d-8bb0e48ca041"
   },
   "outputs": [],
   "source": [
    "data_test_scale  =  scaler.fit_transform(data_test)"
   ]
  },
  {
   "cell_type": "code",
   "execution_count": 34,
   "id": "536de9d0-2cc7-41dd-b500-affd3e3fec9d",
   "metadata": {
    "id": "536de9d0-2cc7-41dd-b500-affd3e3fec9d"
   },
   "outputs": [],
   "source": [
    "x = []\n",
    "y = []\n",
    "\n",
    "for i in range(100, data_test_scale.shape[0]):\n",
    "    x.append(data_test_scale[i-100:i])\n",
    "    y.append(data_test_scale[i,0])\n",
    "x, y = np.array(x), np.array(y)"
   ]
  },
  {
   "cell_type": "code",
   "execution_count": 35,
   "id": "SvOVh1Q8O1Mu",
   "metadata": {
    "id": "SvOVh1Q8O1Mu"
   },
   "outputs": [],
   "source": [
    "y_inverse=scaler.inverse_transform(y.reshape(-1, 1))"
   ]
  },
  {
   "cell_type": "code",
   "execution_count": 36,
   "id": "4602f57f-8832-4bf6-a50e-bb5164ff7872",
   "metadata": {
    "colab": {
     "base_uri": "https://localhost:8080/"
    },
    "executionInfo": {
     "elapsed": 2635,
     "status": "ok",
     "timestamp": 1745103416757,
     "user": {
      "displayName": "Vishal Patel",
      "userId": "13507122250658849468"
     },
     "user_tz": -330
    },
    "id": "4602f57f-8832-4bf6-a50e-bb5164ff7872",
    "outputId": "1196da4f-b6e6-40a5-fc49-ae0137bda631"
   },
   "outputs": [
    {
     "name": "stdout",
     "output_type": "stream",
     "text": [
      "21/21 [==============================] - 2s 52ms/step\n"
     ]
    }
   ],
   "source": [
    "y_predict = model.predict(x)"
   ]
  },
  {
   "cell_type": "code",
   "execution_count": 37,
   "id": "f1Pk4UmuMfe8",
   "metadata": {
    "id": "f1Pk4UmuMfe8"
   },
   "outputs": [],
   "source": [
    "y_predict_inverse=scaler.inverse_transform(y_predict)"
   ]
  },
  {
   "cell_type": "code",
   "execution_count": null,
   "id": "hVwAzI18ZkYO",
   "metadata": {
    "id": "hVwAzI18ZkYO"
   },
   "outputs": [],
   "source": []
  },
  {
   "cell_type": "code",
   "execution_count": 33,
   "id": "22143940-722e-4c05-8b46-d2f7d9abb882",
   "metadata": {
    "id": "22143940-722e-4c05-8b46-d2f7d9abb882"
   },
   "outputs": [],
   "source": [
    "model.save('Stock Predictions Model.keras')"
   ]
  },
  {
   "cell_type": "code",
   "execution_count": 38,
   "id": "0134989b-8ba7-47cb-806c-13cf1b1152af",
   "metadata": {},
   "outputs": [
    {
     "data": {
      "text/plain": [
       "(670, 1)"
      ]
     },
     "execution_count": 38,
     "metadata": {},
     "output_type": "execute_result"
    }
   ],
   "source": [
    "y_predict_inverse.shape"
   ]
  },
  {
   "cell_type": "code",
   "execution_count": 39,
   "id": "1ecfc639-18a0-4885-9250-605c46360634",
   "metadata": {},
   "outputs": [
    {
     "data": {
      "text/plain": [
       "(670, 1)"
      ]
     },
     "execution_count": 39,
     "metadata": {},
     "output_type": "execute_result"
    }
   ],
   "source": [
    "y_inverse.shape"
   ]
  },
  {
   "cell_type": "code",
   "execution_count": 40,
   "id": "udr-NV7_QWQF",
   "metadata": {
    "colab": {
     "base_uri": "https://localhost:8080/",
     "height": 692
    },
    "executionInfo": {
     "elapsed": 324,
     "status": "ok",
     "timestamp": 1745103427339,
     "user": {
      "displayName": "Vishal Patel",
      "userId": "13507122250658849468"
     },
     "user_tz": -330
    },
    "id": "udr-NV7_QWQF",
    "outputId": "815527f1-6ae5-420f-9bcd-7d26bcfa3207"
   },
   "outputs": [
    {
     "data": {
      "image/png": "[encoded data removed]",
      "text/plain": [
       "<Figure size 1000x800 with 1 Axes>"
      ]
     },
     "metadata": {},
     "output_type": "display_data"
    }
   ],
   "source": [
    "plt.figure(figsize=(10,8))\n",
    "plt.plot(y_predict_inverse, 'r', label = 'Predicted Price')\n",
    "plt.plot(y_inverse, 'g', label = 'Original Price')\n",
    "plt.xlabel('Time')\n",
    "plt.ylabel('Price')\n",
    "plt.legend()\n",
    "plt.show()"
   ]
  },
  {
   "cell_type": "code",
   "execution_count": 41,
   "id": "119d047e-8a60-4544-bc89-ddf15c2c7f5d",
   "metadata": {},
   "outputs": [
    {
     "name": "stdout",
     "output_type": "stream",
     "text": [
      "R² Score: 0.9455481548507892\n"
     ]
    }
   ],
   "source": [
    "from sklearn.metrics import r2_score\n",
    "\n",
    "r2 = r2_score(y_inverse, y_predict_inverse)\n",
    "print(f\"R² Score: {r2}\")"
   ]
  },
  {
   "cell_type": "code",
   "execution_count": 42,
   "id": "51429fb6-1307-476a-9934-d478506fb8d1",
   "metadata": {},
   "outputs": [
    {
     "name": "stdout",
     "output_type": "stream",
     "text": [
      "Root Mean Squared Error (RMSE): 7.432521603113274\n",
      "Mean Squared Error (MSE): 55.24237738074552\n",
      "Mean Absolute Error (MAE): 5.910073932249155\n"
     ]
    }
   ],
   "source": [
    "from sklearn.metrics import mean_squared_error, mean_absolute_error\n",
    "import numpy as np\n",
    "\n",
    "# --- 1. Calculate RMSE ---\n",
    "rmse = np.sqrt(mean_squared_error(y_inverse, y_predict_inverse))\n",
    "print(f\"Root Mean Squared Error (RMSE): {rmse}\")\n",
    "\n",
    "# --- 2. Calculate MSE ---\n",
    "mse = mean_squared_error(y_inverse, y_predict_inverse)\n",
    "print(f\"Mean Squared Error (MSE): {mse}\")\n",
    "\n",
    "# --- 3. Calculate MAE ---\n",
    "mae = mean_absolute_error(y_inverse, y_predict_inverse)\n",
    "print(f\"Mean Absolute Error (MAE): {mae}\")\n"
   ]
  },
  {
   "cell_type": "code",
   "execution_count": 43,
   "id": "89a1af6d-aeb4-4a3e-8773-ef360615265d",
   "metadata": {},
   "outputs": [],
   "source": [
    "def find_accuracy():\n",
    "\n",
    "    data_test=data['Close']\n",
    "    data_test_scale  =  scaler.fit_transform(data_test)\n",
    "\n",
    "    x = []\n",
    "    y = []\n",
    "\n",
    "    for i in range(100, data_test_scale.shape[0]):\n",
    "        x.append(data_test_scale[i-100:i])\n",
    "        y.append(data_test_scale[i,0])\n",
    "\n",
    "    x, y = np.array(x), np.array(y)\n",
    "\n",
    "    y_inverse=scaler.inverse_transform(y.reshape(-1, 1))\n",
    "    y_predict = model.predict(x)\n",
    "    y_predict_inverse=scaler.inverse_transform(y_predict)\n",
    "    plt.figure(figsize=(10,8))\n",
    "    plt.plot(y_predict_inverse, 'r', label = 'Predicted Price')\n",
    "    plt.plot(y_inverse, 'g', label = 'Original Price')\n",
    "    plt.xlabel('Time')\n",
    "    plt.ylabel('Price')\n",
    "    plt.legend()\n",
    "    plt.show()\n",
    "    r2 = r2_score(y_inverse, y_predict_inverse)\n",
    "    rmse = np.sqrt(mean_squared_error(y_inverse, y_predict_inverse))\n",
    "    print(f\"Root Mean Squared Error (RMSE): {rmse}\")\n",
    "\n",
    "    mse = mean_squared_error(y_inverse, y_predict_inverse)\n",
    "    print(f\"Mean Squared Error (MSE): {mse}\")\n",
    "\n",
    "\n",
    "    mae = mean_absolute_error(y_inverse, y_predict_inverse)\n",
    "    print(f\"Mean Absolute Error (MAE): {mae}\")\n",
    "    print(f\"R² Score: {r2}\")"
   ]
  },
  {
   "cell_type": "code",
   "execution_count": 44,
   "id": "156f50f0-0f79-435a-8fc7-81477e4f237b",
   "metadata": {},
   "outputs": [
    {
     "name": "stdout",
     "output_type": "stream",
     "text": [
      "102/102 [==============================] - 5s 51ms/step\n"
     ]
    },
    {
     "data": {
      "image/png": "[encoded data removed]",
      "text/plain": [
       "<Figure size 1000x800 with 1 Axes>"
      ]
     },
     "metadata": {},
     "output_type": "display_data"
    },
    {
     "name": "stdout",
     "output_type": "stream",
     "text": [
      "Root Mean Squared Error (RMSE): 9.171974282225811\n",
      "Mean Squared Error (MSE): 84.12511223381168\n",
      "Mean Absolute Error (MAE): 8.22060193598564\n",
      "R² Score: 0.964479545569897\n"
     ]
    }
   ],
   "source": [
    "find_accuracy()"
   ]
  },
  {
   "cell_type": "code",
   "execution_count": 35,
   "id": "8O9JYxcxWj2G",
   "metadata": {
    "id": "8O9JYxcxWj2G"
   },
   "outputs": [
    {
     "name": "stdout",
     "output_type": "stream",
     "text": [
      "INFO:tensorflow:Assets written to: ram://fde40495-48e7-46a7-ac4a-7667ac2c9b15/assets\n"
     ]
    }
   ],
   "source": [
    "import pickle\n",
    "\n",
    "# Example: Save a scaler\n",
    "with open(\"model_lstm.pkl\", \"wb\") as f:\n",
    "  pickle.dump(model, f)\n"
   ]
  },
  {
   "cell_type": "code",
   "execution_count": null,
   "id": "39cd617b-1e06-45d0-83ad-09a580dd54f3",
   "metadata": {},
   "outputs": [],
   "source": []
  },
  {
   "cell_type": "code",
   "execution_count": 36,
   "id": "P0YUvPEtaLxJ",
   "metadata": {
    "id": "P0YUvPEtaLxJ"
   },
   "outputs": [],
   "source": [
    "import keras"
   ]
  },
  {
   "cell_type": "code",
   "execution_count": 37,
   "id": "7Gh2FC7LY_im",
   "metadata": {
    "colab": {
     "base_uri": "https://localhost:8080/"
    },
    "executionInfo": {
     "elapsed": 68,
     "status": "ok",
     "timestamp": 1745105458966,
     "user": {
      "displayName": "Vishal Patel",
      "userId": "13507122250658849468"
     },
     "user_tz": -330
    },
    "id": "7Gh2FC7LY_im",
    "outputId": "9eb2f27c-aa2b-4dc7-83c3-f8fb82e3b904"
   },
   "outputs": [],
   "source": [
    "model.save(\"lstm_model1.h5\")"
   ]
  },
  {
   "cell_type": "code",
   "execution_count": 41,
   "id": "VqD21BeaZZqK",
   "metadata": {
    "id": "VqD21BeaZZqK"
   },
   "outputs": [],
   "source": [
    "model.save('my_model.h5')\n"
   ]
  },
  {
   "cell_type": "code",
   "execution_count": 42,
   "id": "34dec4fd-3842-4652-93f4-bee4d7fec0f0",
   "metadata": {},
   "outputs": [],
   "source": [
    "model.save('my_model.keras')"
   ]
  },
  {
   "cell_type": "code",
   "execution_count": 50,
   "id": "eafff6bb-189d-4014-8465-6239b85704f9",
   "metadata": {},
   "outputs": [],
   "source": [
    "import pickle\n",
    "\n",
    "# Assume 'scaler' is your fitted scaler (e.g., MinMaxScaler)\n",
    "with open(\"scaler.pkl\", \"wb\") as f:\n",
    "    pickle.dump(scaler, f)"
   ]
  },
  {
   "cell_type": "code",
   "execution_count": null,
   "id": "921a52d3-d645-4c45-96d1-c37b14622e5a",
   "metadata": {},
   "outputs": [],
   "source": []
  },
  {
   "cell_type": "code",
   "execution_count": null,
   "id": "fd86a93b-079f-45bb-aa1b-c91370eade66",
   "metadata": {},
   "outputs": [],
   "source": []
  },
  {
   "cell_type": "code",
   "execution_count": null,
   "id": "57ab25ab-a8a3-4abb-a73c-8b7a8944c38f",
   "metadata": {},
   "outputs": [],
   "source": []
  }
 ],
 "metadata": {
  "colab": {
   "provenance": []
  },
  "kernelspec": {
   "display_name": "Python 3 (ipykernel)",
   "language": "python",
   "name": "python3"
  },
  "language_info": {
   "codemirror_mode": {
    "name": "ipython",
    "version": 3
   },
   "file_extension": ".py",
   "mimetype": "text/x-python",
   "name": "python",
   "nbconvert_exporter": "python",
   "pygments_lexer": "ipython3",
   "version": "3.10.13"
  }
 },
 "nbformat": 4,
 "nbformat_minor": 5
}
